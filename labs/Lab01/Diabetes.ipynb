{
 "cells": [
  {
   "cell_type": "code",
   "execution_count": 2,
   "metadata": {},
   "outputs": [
    {
     "name": "stdout",
     "output_type": "stream",
     "text": [
      "b'{\"Results\":{\"output1\":[{\"PatientID\":\"1882185\",\"Physician\":\"Carolos Lamy\",\"DiabetesPrediction\":\"1\",\"Probability\":\"0.99969083070755\"}]}}'\n"
     ]
    }
   ],
   "source": [
    "import urllib.request\n",
    "import json\n",
    "\n",
    "data = {\n",
    "        \"Inputs\": {\n",
    "                \"input1\":\n",
    "                [\n",
    "                    {\n",
    "                            'PatientID': \"1882185\",   \n",
    "                            'Pregnancies': \"9\",   \n",
    "                            'PlasmaGlucose': \"104\",   \n",
    "                            'DiastolicBloodPressure': \"51\",   \n",
    "                            'TricepsThickness': \"7\",   \n",
    "                            'SerumInsulin': \"24\",   \n",
    "                            'BMI': \"27.36983156\",   \n",
    "                            'DiabetesPedigree': \"1.350472047\",   \n",
    "                            'Age': \"43\",   \n",
    "                    }\n",
    "                ],\n",
    "        },\n",
    "    \"GlobalParameters\":  {\n",
    "    }\n",
    "}\n",
    "\n",
    "body = str.encode(json.dumps(data))\n",
    "\n",
    "url = 'https://asiasoutheast.services.azureml.net/subscriptions/a2d65618cad64322b548ab6c02a78ae2/services/7cfb3b342f9342f3b362f048edbb8719/execute?api-version=2.0&format=swagger'\n",
    "api_key = 'r9jdksBrNOpoyQu27AIvZQv+dGSHCRum8GEfkdkW2fkEh+HLNzCVlrgfCjQGpkjUgVPhy1pyfziHphnl8kxeUA==' # Replace this with the API key for the web service\n",
    "headers = {'Content-Type':'application/json', 'Authorization':('Bearer '+ api_key)}\n",
    "\n",
    "req = urllib.request.Request(url, body, headers)\n",
    "\n",
    "try:\n",
    "    response = urllib.request.urlopen(req)\n",
    "\n",
    "    result = response.read()\n",
    "    print(result)\n",
    "except urllib.error.HTTPError as error:\n",
    "    print(\"The request failed with status code: \" + str(error.code))\n",
    "\n",
    "    # Print the headers - they include the requert ID and the timestamp, which are useful for debugging the failure\n",
    "    print(error.info())\n",
    "    print(json.loads(error.read().decode(\"utf8\", 'ignore')))"
   ]
  }
 ],
 "metadata": {
  "kernelspec": {
   "display_name": "Python 3.6",
   "language": "python",
   "name": "python36"
  },
  "language_info": {
   "codemirror_mode": {
    "name": "ipython",
    "version": 3
   },
   "file_extension": ".py",
   "mimetype": "text/x-python",
   "name": "python",
   "nbconvert_exporter": "python",
   "pygments_lexer": "ipython3",
   "version": "3.6.3"
  }
 },
 "nbformat": 4,
 "nbformat_minor": 2
}
